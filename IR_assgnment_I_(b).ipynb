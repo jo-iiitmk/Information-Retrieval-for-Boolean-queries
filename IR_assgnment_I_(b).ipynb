{
  "nbformat": 4,
  "nbformat_minor": 0,
  "metadata": {
    "colab": {
      "provenance": [],
      "collapsed_sections": [],
      "authorship_tag": "ABX9TyP678JSfzXd1CEH2Ss0hNMT"
    },
    "kernelspec": {
      "name": "python3",
      "display_name": "Python 3"
    },
    "language_info": {
      "name": "python"
    }
  },
  "cells": [
    {
      "cell_type": "code",
      "execution_count": null,
      "metadata": {
        "id": "CHNfjKYCk47x"
      },
      "outputs": [],
      "source": [
        "import pandas as pd\n",
        "import nltk\n",
        "from nltk.tokenize import word_tokenize"
      ]
    },
    {
      "cell_type": "code",
      "source": [
        "doc1 = \"\"\"The United Kingdom is a state made up of the historic countries of England, Wales and Scotland, as well as Northern Ireland. It is known as the home of both modern parliamentary democracy and the Industrial Revolution. Two world wars and the end of empire diminished its role in the 20th century, and the 2016 referendum vote to leave the European Union has raised significant questions about the country's global role. Nonetheless, the United Kingdom remains an economic and military power with great political and cultural influence around the world.\n",
        "His Majesty King Charles III ascended to the throne in September 2022, on the death of his mother Queen Elizabeth II. The UK's first British Asian prime minister, Mr Sunak took over from the previous prime minister, Liz Truss, just 49 days after she herself had taken over from Boris Johnson. Mr Truss was forced to resign after big tax cuts in a her mini-budget prompted financial turmoil. Mr Sunak became leader of the Conservative party without a ballot of its members when his only remaining rival Penny Mordaunt withdrew.\"\"\"\n",
        "\n",
        "doc2 = \"\"\"Hours after he took charge as the UK Prime Minister, Rishi Sunak Tuesday spoke with US President Joe Biden, said the White House. During the congratulatory call made by Biden, the leaders agreed on the importance of working together to support Ukraine and hold Russia accountable for its aggression, address the challenges posed by China, and secure sustainable and affordable energy resources, it added. Meanwhile, soon after taking over as the British Prime Minister, Rishi Sunak made key Cabinet appointments and decided to keep the new Chancellor, Jeremy Hunt, in place for economic stability. He brought back Indian-origin Suella Braverman as Home Secretary while James Cleverly will remain Foreign Secretary despite not being a Sunak loyalist. The 42-year-old became UK’s first Indian-origin British Prime Minister after being invited by King Charles III to form a government. He said that he had been appointed in part to fix the mistakes made by his predecessor Liz Truss and warned the country might have to face difficult decisions to overcome a “profound economic crisis”.\"\"\"\n",
        "\n",
        "doc3 = \"\"\"Just a decade ago, Indian GDP was the eleventh largest in the world. Now, with 7 percent growth forecast for 2022, India's economy has overtaken the United Kingdom's in terms of size, making it the fifth biggest. That's according to the latest figures from the International Monetary Fund. India's growth is accompanied by a period of rapid inflation in the UK, creating a cost of living crisis and the risk of a recession which the Bank of England predicts could last into 2024. This situation, coupled with a turbulent political period and the continued hangover of Brexit, led to Indian output overtaking that of the UK in the final quarter of 2021, with the first of 2022 offering no change in the ranking. Looking ahead, the IMF forecasts this to become the new status quo, with India expected to leap further ahead of the UK up to 2027 - making India the fourth largest economy by that time, too, and leaving the UK behind in sixth.\"\"\""
      ],
      "metadata": {
        "id": "LbcDeAmvuGEU"
      },
      "execution_count": null,
      "outputs": []
    },
    {
      "cell_type": "code",
      "source": [
        "#punctuation removal and tokenization\n",
        "nltk.download('punkt')\n",
        "def punctuation_removal(txt):\n",
        "  notations = '''!()-[]{};:'\"\\,<>./?@#$%^&*_~'''\n",
        "  for words in txt:\n",
        "    if words in notations:\n",
        "      txt = txt.replace(words, \"\")\n",
        "  txt = txt.lower()\n",
        "  doc = nltk.word_tokenize(txt)\n",
        "  return doc"
      ],
      "metadata": {
        "colab": {
          "base_uri": "https://localhost:8080/"
        },
        "id": "aitkwDg7jMSv",
        "outputId": "f374b931-f74e-421b-ec28-f521a255ae28"
      },
      "execution_count": null,
      "outputs": [
        {
          "output_type": "stream",
          "name": "stderr",
          "text": [
            "[nltk_data] Downloading package punkt to /root/nltk_data...\n",
            "[nltk_data]   Unzipping tokenizers/punkt.zip.\n"
          ]
        }
      ]
    },
    {
      "cell_type": "code",
      "source": [
        "doc1 = punctuation_removal(doc1)\n",
        "doc2 = punctuation_removal(doc2)\n",
        "doc3 = punctuation_removal(doc3)"
      ],
      "metadata": {
        "id": "CrzzbDJ4nYNa"
      },
      "execution_count": null,
      "outputs": []
    },
    {
      "cell_type": "code",
      "source": [
        "#stopwords removal\n",
        "import nltk\n",
        "nltk.download('stopwords')\n",
        "from nltk.corpus import stopwords\n",
        "stop_words = set(stopwords.words('english'))\n",
        "  \n",
        "word_tokens = doc1 + doc2 + doc3\n",
        "  \n",
        "filtered_sentence = [w for w in word_tokens if not w.lower() in stop_words]\n",
        " \n",
        "#filtered_sentence=\" \".join(filtered_sentence)"
      ],
      "metadata": {
        "colab": {
          "base_uri": "https://localhost:8080/"
        },
        "id": "MRadivNvuHo1",
        "outputId": "f09ed504-7a8b-43be-95ec-7ef914358280"
      },
      "execution_count": null,
      "outputs": [
        {
          "output_type": "stream",
          "name": "stderr",
          "text": [
            "[nltk_data] Downloading package stopwords to /root/nltk_data...\n",
            "[nltk_data]   Unzipping corpora/stopwords.zip.\n"
          ]
        }
      ]
    },
    {
      "cell_type": "code",
      "source": [
        "unique_words=set(filtered_sentence)\n",
        "len(unique_words)"
      ],
      "metadata": {
        "id": "Bdw0TO2luvzs",
        "colab": {
          "base_uri": "https://localhost:8080/"
        },
        "outputId": "3f41fd36-377c-47c1-b4e5-1c2021b7af7b"
      },
      "execution_count": null,
      "outputs": [
        {
          "output_type": "execute_result",
          "data": {
            "text/plain": [
              "254"
            ]
          },
          "metadata": {},
          "execution_count": 6
        }
      ]
    },
    {
      "cell_type": "code",
      "source": [
        "from collections import defaultdict\n",
        "invt_index=defaultdict(list)\n",
        "for i in unique_words:\n",
        "  if i in set(doc1):\n",
        "    invt_index[i].append(0)\n",
        "\n",
        "  if i in set(doc2):\n",
        "    invt_index[i].append(1)\n",
        "\n",
        "  if i in set(doc3):\n",
        "   invt_index[i].append(2)"
      ],
      "metadata": {
        "id": "hvsePCr7tWzx"
      },
      "execution_count": null,
      "outputs": []
    },
    {
      "cell_type": "code",
      "source": [
        "invt_index"
      ],
      "metadata": {
        "colab": {
          "base_uri": "https://localhost:8080/"
        },
        "id": "D9fNPD-_vp5m",
        "outputId": "432381d5-4a24-4750-ebba-af6c89f32d5e"
      },
      "execution_count": null,
      "outputs": [
        {
          "output_type": "execute_result",
          "data": {
            "text/plain": [
              "defaultdict(list,\n",
              "            {'sixth': [2],\n",
              "             'ago': [2],\n",
              "             'september': [0],\n",
              "             'offering': [2],\n",
              "             '“': [1],\n",
              "             'cleverly': [1],\n",
              "             'overtaken': [2],\n",
              "             'profound': [1],\n",
              "             'together': [1],\n",
              "             'accountable': [1],\n",
              "             'importance': [1],\n",
              "             'new': [1, 2],\n",
              "             'difficult': [1],\n",
              "             'ii': [0],\n",
              "             'hunt': [1],\n",
              "             'looking': [2],\n",
              "             'meanwhile': [1],\n",
              "             'quarter': [2],\n",
              "             '’': [1],\n",
              "             'gdp': [2],\n",
              "             'scotland': [0],\n",
              "             'output': [2],\n",
              "             'uks': [0],\n",
              "             'taking': [1],\n",
              "             'latest': [2],\n",
              "             'size': [2],\n",
              "             'period': [2],\n",
              "             'resign': [0],\n",
              "             'end': [0],\n",
              "             'crisis': [1, 2],\n",
              "             'ascended': [0],\n",
              "             'hold': [1],\n",
              "             'nonetheless': [0],\n",
              "             'historic': [0],\n",
              "             'aggression': [1],\n",
              "             'turbulent': [2],\n",
              "             'charge': [1],\n",
              "             'iii': [0, 1],\n",
              "             'wales': [0],\n",
              "             'final': [2],\n",
              "             'predecessor': [1],\n",
              "             'two': [0],\n",
              "             'previous': [0],\n",
              "             'truss': [0, 1],\n",
              "             'appointed': [1],\n",
              "             'largest': [2],\n",
              "             'days': [0],\n",
              "             'made': [0, 1],\n",
              "             'remaining': [0],\n",
              "             'monetary': [2],\n",
              "             'recession': [2],\n",
              "             '2016': [0],\n",
              "             'world': [0, 2],\n",
              "             'government': [1],\n",
              "             'overcome': [1],\n",
              "             'call': [1],\n",
              "             'raised': [0],\n",
              "             'spoke': [1],\n",
              "             'china': [1],\n",
              "             'indianorigin': [1],\n",
              "             'remain': [1],\n",
              "             'keep': [1],\n",
              "             'might': [1],\n",
              "             'kingdoms': [2],\n",
              "             'overtaking': [2],\n",
              "             'fifth': [2],\n",
              "             'became': [0, 1],\n",
              "             'russia': [1],\n",
              "             '2027': [2],\n",
              "             'said': [1],\n",
              "             'role': [0],\n",
              "             'around': [0],\n",
              "             'countries': [0],\n",
              "             'joe': [1],\n",
              "             'added': [1],\n",
              "             'decisions': [1],\n",
              "             'members': [0],\n",
              "             'brought': [1],\n",
              "             'growth': [2],\n",
              "             'vote': [0],\n",
              "             'british': [0, 1],\n",
              "             'posed': [1],\n",
              "             'conservative': [0],\n",
              "             'stability': [1],\n",
              "             'forced': [0],\n",
              "             'could': [2],\n",
              "             'support': [1],\n",
              "             'brexit': [2],\n",
              "             'taken': [0],\n",
              "             'boris': [0],\n",
              "             'eleventh': [2],\n",
              "             'figures': [2],\n",
              "             'affordable': [1],\n",
              "             'rishi': [1],\n",
              "             'accompanied': [2],\n",
              "             'part': [1],\n",
              "             'bank': [2],\n",
              "             'union': [0],\n",
              "             '49': [0],\n",
              "             'state': [0],\n",
              "             'questions': [0],\n",
              "             'hours': [1],\n",
              "             'fund': [2],\n",
              "             'turmoil': [0],\n",
              "             '2021': [2],\n",
              "             'influence': [0],\n",
              "             'imf': [2],\n",
              "             'behind': [2],\n",
              "             'ukraine': [1],\n",
              "             'democracy': [0],\n",
              "             'home': [0, 1],\n",
              "             'tuesday': [1],\n",
              "             'james': [1],\n",
              "             'continued': [2],\n",
              "             'warned': [1],\n",
              "             'status': [2],\n",
              "             '2024': [2],\n",
              "             'queen': [0],\n",
              "             'mr': [0],\n",
              "             'ireland': [0],\n",
              "             'jeremy': [1],\n",
              "             'countrys': [0],\n",
              "             'soon': [1],\n",
              "             'forecast': [2],\n",
              "             'hangover': [2],\n",
              "             'key': [1],\n",
              "             'penny': [0],\n",
              "             'cost': [2],\n",
              "             'house': [1],\n",
              "             'become': [2],\n",
              "             'foreign': [1],\n",
              "             'making': [2],\n",
              "             'power': [0],\n",
              "             'fix': [1],\n",
              "             'european': [0],\n",
              "             'throne': [0],\n",
              "             'asian': [0],\n",
              "             'decade': [2],\n",
              "             '”': [1],\n",
              "             'suella': [1],\n",
              "             'invited': [1],\n",
              "             'coupled': [2],\n",
              "             'situation': [2],\n",
              "             'charles': [0, 1],\n",
              "             'majesty': [0],\n",
              "             'industrial': [0],\n",
              "             'led': [2],\n",
              "             'prompted': [0],\n",
              "             'change': [2],\n",
              "             '7': [2],\n",
              "             'risk': [2],\n",
              "             'leader': [0],\n",
              "             'century': [0],\n",
              "             'challenges': [1],\n",
              "             '20th': [0],\n",
              "             'parliamentary': [0],\n",
              "             'military': [0],\n",
              "             'king': [0, 1],\n",
              "             'secretary': [1],\n",
              "             'rival': [0],\n",
              "             'big': [0],\n",
              "             'ahead': [2],\n",
              "             'back': [1],\n",
              "             'energy': [1],\n",
              "             'northern': [0],\n",
              "             'economic': [0, 1],\n",
              "             'prime': [0, 1],\n",
              "             'modern': [0],\n",
              "             'cabinet': [1],\n",
              "             'time': [2],\n",
              "             'well': [0],\n",
              "             'sunak': [0, 1],\n",
              "             'form': [1],\n",
              "             'ballot': [0],\n",
              "             'referendum': [0],\n",
              "             'inflation': [2],\n",
              "             'white': [1],\n",
              "             'despite': [1],\n",
              "             'thats': [2],\n",
              "             'predicts': [2],\n",
              "             'address': [1],\n",
              "             'secure': [1],\n",
              "             'quo': [2],\n",
              "             'decided': [1],\n",
              "             'tax': [0],\n",
              "             'political': [0, 2],\n",
              "             'empire': [0],\n",
              "             'first': [0, 1, 2],\n",
              "             'loyalist': [1],\n",
              "             'president': [1],\n",
              "             'biden': [1],\n",
              "             'international': [2],\n",
              "             'forecasts': [2],\n",
              "             'leaders': [1],\n",
              "             'withdrew': [0],\n",
              "             'braverman': [1],\n",
              "             'living': [2],\n",
              "             'wars': [0],\n",
              "             'elizabeth': [0],\n",
              "             'according': [2],\n",
              "             'terms': [2],\n",
              "             'us': [1],\n",
              "             'indias': [2],\n",
              "             'percent': [2],\n",
              "             'death': [0],\n",
              "             'creating': [2],\n",
              "             'diminished': [0],\n",
              "             'global': [0],\n",
              "             'mistakes': [1],\n",
              "             'ranking': [2],\n",
              "             'economy': [2],\n",
              "             '42yearold': [1],\n",
              "             'cultural': [0],\n",
              "             'mother': [0],\n",
              "             'congratulatory': [1],\n",
              "             'appointments': [1],\n",
              "             'biggest': [2],\n",
              "             'known': [0],\n",
              "             'mordaunt': [0],\n",
              "             'country': [1],\n",
              "             'agreed': [1],\n",
              "             'england': [0, 2],\n",
              "             'uk': [1, 2],\n",
              "             'last': [2],\n",
              "             'fourth': [2],\n",
              "             'minibudget': [0],\n",
              "             'working': [1],\n",
              "             'great': [0],\n",
              "             'without': [0],\n",
              "             'india': [2],\n",
              "             'resources': [1],\n",
              "             'rapid': [2],\n",
              "             'liz': [0, 1],\n",
              "             'sustainable': [1],\n",
              "             'face': [1],\n",
              "             'leaving': [2],\n",
              "             'financial': [0],\n",
              "             '2022': [0, 2],\n",
              "             'significant': [0],\n",
              "             'cuts': [0],\n",
              "             'united': [0, 2],\n",
              "             'kingdom': [0],\n",
              "             'johnson': [0],\n",
              "             'revolution': [0],\n",
              "             'remains': [0],\n",
              "             'chancellor': [1],\n",
              "             'took': [0, 1],\n",
              "             'party': [0],\n",
              "             'place': [1],\n",
              "             'expected': [2],\n",
              "             'leave': [0],\n",
              "             'minister': [0, 1],\n",
              "             'indian': [2],\n",
              "             'leap': [2]})"
            ]
          },
          "metadata": {},
          "execution_count": 8
        }
      ]
    },
    {
      "cell_type": "code",
      "source": [
        "def query_result(query):\n",
        "  for i in query.split():\n",
        "    if i=='and':\n",
        "      query= query.replace(i,'&')\n",
        "    if i=='or':\n",
        "      query=query.replace(i,'|')\n",
        "    if i=='not':\n",
        "      query=query.replace(i,\"{'0','1','2'}-\")\n",
        "  for j in query.split():\n",
        "    if j.isalpha():\n",
        "      query=query.replace(j,str(set(invt_index[j])))\n",
        "  return query"
      ],
      "metadata": {
        "id": "SWak34dA2K6b"
      },
      "execution_count": null,
      "outputs": []
    },
    {
      "cell_type": "code",
      "source": [
        "result =query_result('british and challenges')\n",
        "print(eval(result))"
      ],
      "metadata": {
        "colab": {
          "base_uri": "https://localhost:8080/"
        },
        "id": "eOpx_NCv2fEQ",
        "outputId": "17e27993-3304-4a95-e020-f512238f64cd"
      },
      "execution_count": null,
      "outputs": [
        {
          "output_type": "stream",
          "name": "stdout",
          "text": [
            "{1}\n"
          ]
        }
      ]
    },
    {
      "cell_type": "code",
      "source": [
        "result =query_result('rishi and india or not truss')\n",
        "print(eval(result))"
      ],
      "metadata": {
        "colab": {
          "base_uri": "https://localhost:8080/"
        },
        "id": "tstCwv-D3DPY",
        "outputId": "fb4e762a-741b-4dbf-9901-8427ca8529c0"
      },
      "execution_count": null,
      "outputs": [
        {
          "output_type": "stream",
          "name": "stdout",
          "text": [
            "{'1', '0', '2'}\n"
          ]
        }
      ]
    },
    {
      "cell_type": "code",
      "source": [],
      "metadata": {
        "id": "Iy9vee6pVwyJ"
      },
      "execution_count": null,
      "outputs": []
    }
  ]
}