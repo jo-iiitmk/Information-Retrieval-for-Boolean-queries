{
  "nbformat": 4,
  "nbformat_minor": 0,
  "metadata": {
    "colab": {
      "provenance": [],
      "authorship_tag": "ABX9TyP7nczPZ+bxNhnYvODPvMdh"
    },
    "kernelspec": {
      "name": "python3",
      "display_name": "Python 3"
    },
    "language_info": {
      "name": "python"
    }
  },
  "cells": [
    {
      "cell_type": "code",
      "execution_count": null,
      "metadata": {
        "id": "Y61ddfopkGp5"
      },
      "outputs": [],
      "source": [
        "import pandas as pd\n",
        "import nltk\n",
        "from nltk.tokenize import word_tokenize\n",
        "import numpy as np"
      ]
    },
    {
      "cell_type": "code",
      "source": [
        "doc1 = \"\"\"The United Kingdom is a state made up of the historic countries of England, Wales and Scotland, as well as Northern Ireland. It is known as the home of both modern parliamentary democracy and the Industrial Revolution. Two world wars and the end of empire diminished its role in the 20th century, and the 2016 referendum vote to leave the European Union has raised significant questions about the country's global role. Nonetheless, the United Kingdom remains an economic and military power with great political and cultural influence around the world.\n",
        "His Majesty King Charles III ascended to the throne in September 2022, on the death of his mother Queen Elizabeth II. The UK's first British Asian prime minister, Mr Sunak took over from the previous prime minister, Liz Truss, just 49 days after she herself had taken over from Boris Johnson. Mr Truss was forced to resign after big tax cuts in a her mini-budget prompted financial turmoil. Mr Sunak became leader of the Conservative party without a ballot of its members when his only remaining rival Penny Mordaunt withdrew.\"\"\"\n",
        "\n",
        "doc2 = \"\"\"Hours after he took charge as the UK Prime Minister, Rishi Sunak Tuesday spoke with US President Joe Biden, said the White House. During the congratulatory call made by Biden, the leaders agreed on the importance of working together to support Ukraine and hold Russia accountable for its aggression, address the challenges posed by China, and secure sustainable and affordable energy resources, it added. Meanwhile, soon after taking over as the British Prime Minister, Rishi Sunak made key Cabinet appointments and decided to keep the new Chancellor, Jeremy Hunt, in place for economic stability. He brought back Indian-origin Suella Braverman as Home Secretary while James Cleverly will remain Foreign Secretary despite not being a Sunak loyalist. The 42-year-old became UK’s first Indian-origin British Prime Minister after being invited by King Charles III to form a government. He said that he had been appointed in part to fix the mistakes made by his predecessor Liz Truss and warned the country might have to face difficult decisions to overcome a “profound economic crisis”.\"\"\"\n",
        "\n",
        "doc3 = \"\"\"Just a decade ago, Indian GDP was the eleventh largest in the world. Now, with 7 percent growth forecast for 2022, India's economy has overtaken the United Kingdom's in terms of size, making it the fifth biggest. That's according to the latest figures from the International Monetary Fund. India's growth is accompanied by a period of rapid inflation in the UK, creating a cost of living crisis and the risk of a recession which the Bank of England predicts could last into 2024. This situation, coupled with a turbulent political period and the continued hangover of Brexit, led to Indian output overtaking that of the UK in the final quarter of 2021, with the first of 2022 offering no change in the ranking. Looking ahead, the IMF forecasts this to become the new status quo, with India expected to leap further ahead of the UK up to 2027 - making India the fourth largest economy by that time, too, and leaving the UK behind in sixth.\"\"\""
      ],
      "metadata": {
        "id": "ViBfRxxikJab"
      },
      "execution_count": null,
      "outputs": []
    },
    {
      "cell_type": "code",
      "source": [
        "#punctuation removal and tokenization\n",
        "nltk.download('punkt')\n",
        "def punctuation_removal(txt):\n",
        "  notations = '''!()-[]{};:'\"\\,<>./?@#$%^&*_~'''\n",
        "  for words in txt:\n",
        "    if words in notations:\n",
        "      txt = txt.replace(words, \"\")\n",
        "  txt = txt.lower()\n",
        "  doc = nltk.word_tokenize(txt)\n",
        "  return doc"
      ],
      "metadata": {
        "colab": {
          "base_uri": "https://localhost:8080/"
        },
        "id": "R4KIwNaakVHz",
        "outputId": "785429ab-03a4-4a5c-b5d9-547d5f74e3ae"
      },
      "execution_count": null,
      "outputs": [
        {
          "output_type": "stream",
          "name": "stderr",
          "text": [
            "[nltk_data] Downloading package punkt to /root/nltk_data...\n",
            "[nltk_data]   Unzipping tokenizers/punkt.zip.\n"
          ]
        }
      ]
    },
    {
      "cell_type": "code",
      "source": [
        "doc1 = punctuation_removal(doc1)\n",
        "doc2 = punctuation_removal(doc2)\n",
        "doc3 = punctuation_removal(doc3)"
      ],
      "metadata": {
        "id": "Ukqz-gwmkWH_"
      },
      "execution_count": null,
      "outputs": []
    },
    {
      "cell_type": "code",
      "source": [
        "import nltk\n",
        "nltk.download('stopwords')\n",
        "from nltk.corpus import stopwords\n",
        "stop_words = set(stopwords.words('english'))\n",
        "  \n",
        "word_tokens = doc1 + doc2 + doc3 \n",
        "filtered_sentence = [w for w in word_tokens if not w.lower() in stop_words]"
      ],
      "metadata": {
        "colab": {
          "base_uri": "https://localhost:8080/"
        },
        "id": "hIHA1ANIkap6",
        "outputId": "9ba61f08-4154-416f-830c-2d39118cb3a2"
      },
      "execution_count": null,
      "outputs": [
        {
          "output_type": "stream",
          "name": "stderr",
          "text": [
            "[nltk_data] Downloading package stopwords to /root/nltk_data...\n",
            "[nltk_data]   Unzipping corpora/stopwords.zip.\n"
          ]
        }
      ]
    },
    {
      "cell_type": "code",
      "source": [
        "unique_words=set(filtered_sentence)"
      ],
      "metadata": {
        "id": "5Vxu4WnO3Rvl"
      },
      "execution_count": null,
      "outputs": []
    },
    {
      "cell_type": "code",
      "source": [
        "print(set(doc1))"
      ],
      "metadata": {
        "colab": {
          "base_uri": "https://localhost:8080/"
        },
        "id": "zzvPaJ2U3kyW",
        "outputId": "a9c47145-938b-4938-c0c1-9ea5fe397f58"
      },
      "execution_count": null,
      "outputs": [
        {
          "output_type": "stream",
          "name": "stdout",
          "text": [
            "{'financial', 'diminished', 'tax', 'it', 'parliamentary', 'british', 'up', 'previous', 'united', 'death', 'days', 'ballot', 'herself', 'state', 'role', 'well', 'majesty', 'known', '2022', 'its', 'made', 'nonetheless', 'historic', 'on', 'his', 'scotland', 'referendum', 'iii', 'she', '49', 'became', 'world', 'when', 'military', 'throne', 'and', 'home', 'sunak', 'ii', 'england', 'leader', 'from', 'countrys', 'cultural', 'two', 'leave', 'a', 'uks', 'northern', 'truss', 'members', 'withdrew', 'questions', 'kingdom', 'has', 'an', 'boris', 'industrial', 'european', 'global', 'mother', 'minibudget', 'both', 'party', 'century', 'cuts', 'had', 'around', 'ascended', 'johnson', 'after', 'with', 'took', 'democracy', 'as', 'influence', 'revolution', 'charles', 'prompted', 'penny', 'taken', 'of', 'her', 'conservative', 'liz', 'economic', 'september', 'to', 'vote', 'raised', 'turmoil', '2016', 'rival', 'just', 'remains', 'is', 'prime', 'king', 'mordaunt', 'only', 'remaining', 'political', 'significant', 'elizabeth', 'modern', 'end', 'wars', 'wales', 'great', 'in', 'union', 'mr', 'over', 'queen', 'asian', 'ireland', 'was', 'first', 'minister', 'the', '20th', 'forced', 'power', 'about', 'countries', 'without', 'resign', 'empire', 'big'}\n"
          ]
        }
      ]
    },
    {
      "cell_type": "code",
      "source": [
        "from collections import defaultdict\n",
        "doc_vectors=defaultdict(list)\n",
        "for i in unique_words:\n",
        "  if i in set(doc1):\n",
        "    doc_vectors[i].append(1)\n",
        "  else:\n",
        "    doc_vectors[i].append(0)\n",
        "  if i in set(doc2):\n",
        "    doc_vectors[i].append(1)\n",
        "  else:\n",
        "    doc_vectors[i].append(0)\n",
        "  if i in set(doc3):\n",
        "   doc_vectors[i].append(1)\n",
        "  else:\n",
        "    doc_vectors[i].append(0)"
      ],
      "metadata": {
        "id": "09FRpMDekhoO"
      },
      "execution_count": null,
      "outputs": []
    },
    {
      "cell_type": "code",
      "source": [
        "doc_vectors"
      ],
      "metadata": {
        "colab": {
          "base_uri": "https://localhost:8080/"
        },
        "id": "nsYVtCWD3-Gt",
        "outputId": "7f24dab8-fb0d-4f59-cf8a-2d6884545850"
      },
      "execution_count": null,
      "outputs": [
        {
          "output_type": "execute_result",
          "data": {
            "text/plain": [
              "defaultdict(list,\n",
              "            {'economic': [1, 1, 0],\n",
              "             'chancellor': [0, 1, 0],\n",
              "             'final': [0, 0, 1],\n",
              "             'charles': [1, 1, 0],\n",
              "             'financial': [1, 0, 0],\n",
              "             'wars': [1, 0, 0],\n",
              "             'address': [0, 1, 0],\n",
              "             'industrial': [1, 0, 0],\n",
              "             'creating': [0, 0, 1],\n",
              "             'leave': [1, 0, 0],\n",
              "             'overtaking': [0, 0, 1],\n",
              "             'remaining': [1, 0, 0],\n",
              "             'international': [0, 0, 1],\n",
              "             '2016': [1, 0, 0],\n",
              "             'posed': [0, 1, 0],\n",
              "             '2022': [1, 0, 1],\n",
              "             'stability': [0, 1, 0],\n",
              "             'leap': [0, 0, 1],\n",
              "             'crisis': [0, 1, 1],\n",
              "             'king': [1, 1, 0],\n",
              "             'last': [0, 0, 1],\n",
              "             'kingdom': [1, 0, 0],\n",
              "             'appointed': [0, 1, 0],\n",
              "             'part': [0, 1, 0],\n",
              "             'hold': [0, 1, 0],\n",
              "             'hunt': [0, 1, 0],\n",
              "             'fourth': [0, 0, 1],\n",
              "             'jeremy': [0, 1, 0],\n",
              "             'prompted': [1, 0, 0],\n",
              "             'accompanied': [0, 0, 1],\n",
              "             'quo': [0, 0, 1],\n",
              "             'affordable': [0, 1, 0],\n",
              "             'suella': [0, 1, 0],\n",
              "             'world': [1, 0, 1],\n",
              "             'charge': [0, 1, 0],\n",
              "             'according': [0, 0, 1],\n",
              "             '2027': [0, 0, 1],\n",
              "             'soon': [0, 1, 0],\n",
              "             'bank': [0, 0, 1],\n",
              "             'country': [0, 1, 0],\n",
              "             'predecessor': [0, 1, 0],\n",
              "             'us': [0, 1, 0],\n",
              "             'decided': [0, 1, 0],\n",
              "             'iii': [1, 1, 0],\n",
              "             'russia': [0, 1, 0],\n",
              "             'home': [1, 1, 0],\n",
              "             'biden': [0, 1, 0],\n",
              "             'back': [0, 1, 0],\n",
              "             'union': [1, 0, 0],\n",
              "             'spoke': [0, 1, 0],\n",
              "             'sustainable': [0, 1, 0],\n",
              "             'kingdoms': [0, 0, 1],\n",
              "             'vote': [1, 0, 0],\n",
              "             'british': [1, 1, 0],\n",
              "             'around': [1, 0, 0],\n",
              "             'century': [1, 0, 0],\n",
              "             'meanwhile': [0, 1, 0],\n",
              "             'days': [1, 0, 0],\n",
              "             'inflation': [0, 0, 1],\n",
              "             'countrys': [1, 0, 0],\n",
              "             'living': [0, 0, 1],\n",
              "             'risk': [0, 0, 1],\n",
              "             'first': [1, 1, 1],\n",
              "             'biggest': [0, 0, 1],\n",
              "             'brexit': [0, 0, 1],\n",
              "             'time': [0, 0, 1],\n",
              "             'liz': [1, 1, 0],\n",
              "             'led': [0, 0, 1],\n",
              "             'support': [0, 1, 0],\n",
              "             'truss': [1, 1, 0],\n",
              "             'northern': [1, 0, 0],\n",
              "             'modern': [1, 0, 0],\n",
              "             'elizabeth': [1, 0, 0],\n",
              "             'members': [1, 0, 0],\n",
              "             'throne': [1, 0, 0],\n",
              "             'england': [1, 0, 1],\n",
              "             'energy': [0, 1, 0],\n",
              "             'queen': [1, 0, 0],\n",
              "             'uks': [1, 0, 0],\n",
              "             'terms': [0, 0, 1],\n",
              "             'predicts': [0, 0, 1],\n",
              "             'ireland': [1, 0, 0],\n",
              "             'size': [0, 0, 1],\n",
              "             'turbulent': [0, 0, 1],\n",
              "             'indian': [0, 0, 1],\n",
              "             'two': [1, 0, 0],\n",
              "             'quarter': [0, 0, 1],\n",
              "             'significant': [1, 0, 0],\n",
              "             'ahead': [0, 0, 1],\n",
              "             'wales': [1, 0, 0],\n",
              "             'challenges': [0, 1, 0],\n",
              "             'rishi': [0, 1, 0],\n",
              "             'revolution': [1, 0, 0],\n",
              "             'sixth': [0, 0, 1],\n",
              "             'end': [1, 0, 0],\n",
              "             'remains': [1, 0, 0],\n",
              "             'prime': [1, 1, 0],\n",
              "             'withdrew': [1, 0, 0],\n",
              "             'taking': [0, 1, 0],\n",
              "             'remain': [0, 1, 0],\n",
              "             '7': [0, 0, 1],\n",
              "             'cleverly': [0, 1, 0],\n",
              "             'previous': [1, 0, 0],\n",
              "             'accountable': [0, 1, 0],\n",
              "             'situation': [0, 0, 1],\n",
              "             'james': [0, 1, 0],\n",
              "             'european': [1, 0, 0],\n",
              "             'decisions': [0, 1, 0],\n",
              "             'status': [0, 0, 1],\n",
              "             'agreed': [0, 1, 0],\n",
              "             'countries': [1, 0, 0],\n",
              "             'turmoil': [1, 0, 0],\n",
              "             '2024': [0, 0, 1],\n",
              "             'continued': [0, 0, 1],\n",
              "             'historic': [1, 0, 0],\n",
              "             'call': [0, 1, 0],\n",
              "             'coupled': [0, 0, 1],\n",
              "             'offering': [0, 0, 1],\n",
              "             'ballot': [1, 0, 0],\n",
              "             'rival': [1, 0, 0],\n",
              "             'form': [0, 1, 0],\n",
              "             'conservative': [1, 0, 0],\n",
              "             'mordaunt': [1, 0, 0],\n",
              "             'secure': [0, 1, 0],\n",
              "             'output': [0, 0, 1],\n",
              "             'cabinet': [0, 1, 0],\n",
              "             'percent': [0, 0, 1],\n",
              "             'forecast': [0, 0, 1],\n",
              "             'tax': [1, 0, 0],\n",
              "             '“': [0, 1, 0],\n",
              "             'cost': [0, 0, 1],\n",
              "             'place': [0, 1, 0],\n",
              "             'taken': [1, 0, 0],\n",
              "             'sunak': [1, 1, 0],\n",
              "             'death': [1, 0, 0],\n",
              "             'scotland': [1, 0, 0],\n",
              "             'united': [1, 0, 1],\n",
              "             'braverman': [0, 1, 0],\n",
              "             'looking': [0, 0, 1],\n",
              "             'role': [1, 0, 0],\n",
              "             'figures': [0, 0, 1],\n",
              "             'took': [1, 1, 0],\n",
              "             'leaving': [0, 0, 1],\n",
              "             'eleventh': [0, 0, 1],\n",
              "             'invited': [0, 1, 0],\n",
              "             'brought': [0, 1, 0],\n",
              "             'behind': [0, 0, 1],\n",
              "             'forecasts': [0, 0, 1],\n",
              "             'secretary': [0, 1, 0],\n",
              "             'gdp': [0, 0, 1],\n",
              "             'new': [0, 1, 1],\n",
              "             'key': [0, 1, 0],\n",
              "             'cuts': [1, 0, 0],\n",
              "             'cultural': [1, 0, 0],\n",
              "             'overcome': [0, 1, 0],\n",
              "             'global': [1, 0, 0],\n",
              "             'johnson': [1, 0, 0],\n",
              "             'monetary': [0, 0, 1],\n",
              "             'india': [0, 0, 1],\n",
              "             'mistakes': [0, 1, 0],\n",
              "             'diminished': [1, 0, 0],\n",
              "             'ascended': [1, 0, 0],\n",
              "             'growth': [0, 0, 1],\n",
              "             'penny': [1, 0, 0],\n",
              "             'questions': [1, 0, 0],\n",
              "             'great': [1, 0, 0],\n",
              "             'hangover': [0, 0, 1],\n",
              "             'government': [0, 1, 0],\n",
              "             'minibudget': [1, 0, 0],\n",
              "             'leader': [1, 0, 0],\n",
              "             '20th': [1, 0, 0],\n",
              "             'mr': [1, 0, 0],\n",
              "             'face': [0, 1, 0],\n",
              "             'democracy': [1, 0, 0],\n",
              "             'nonetheless': [1, 0, 0],\n",
              "             'without': [1, 0, 0],\n",
              "             'mother': [1, 0, 0],\n",
              "             'imf': [0, 0, 1],\n",
              "             'uk': [0, 1, 1],\n",
              "             'working': [0, 1, 0],\n",
              "             '’': [0, 1, 0],\n",
              "             'forced': [1, 0, 0],\n",
              "             'political': [1, 0, 1],\n",
              "             'congratulatory': [0, 1, 0],\n",
              "             'became': [1, 1, 0],\n",
              "             'despite': [0, 1, 0],\n",
              "             'ranking': [0, 0, 1],\n",
              "             'loyalist': [0, 1, 0],\n",
              "             'rapid': [0, 0, 1],\n",
              "             'period': [0, 0, 1],\n",
              "             'leaders': [0, 1, 0],\n",
              "             'raised': [1, 0, 0],\n",
              "             'empire': [1, 0, 0],\n",
              "             'tuesday': [0, 1, 0],\n",
              "             'change': [0, 0, 1],\n",
              "             '49': [1, 0, 0],\n",
              "             'joe': [0, 1, 0],\n",
              "             'ukraine': [0, 1, 0],\n",
              "             'boris': [1, 0, 0],\n",
              "             'big': [1, 0, 0],\n",
              "             'could': [0, 0, 1],\n",
              "             'power': [1, 0, 0],\n",
              "             'added': [0, 1, 0],\n",
              "             '42yearold': [0, 1, 0],\n",
              "             'aggression': [0, 1, 0],\n",
              "             'well': [1, 0, 0],\n",
              "             '”': [0, 1, 0],\n",
              "             'thats': [0, 0, 1],\n",
              "             'party': [1, 0, 0],\n",
              "             'resources': [0, 1, 0],\n",
              "             'appointments': [0, 1, 0],\n",
              "             'together': [0, 1, 0],\n",
              "             'september': [1, 0, 0],\n",
              "             'state': [1, 0, 0],\n",
              "             'china': [0, 1, 0],\n",
              "             'indias': [0, 0, 1],\n",
              "             'economy': [0, 0, 1],\n",
              "             'fix': [0, 1, 0],\n",
              "             'influence': [1, 0, 0],\n",
              "             'recession': [0, 0, 1],\n",
              "             'become': [0, 0, 1],\n",
              "             'importance': [0, 1, 0],\n",
              "             'expected': [0, 0, 1],\n",
              "             'ii': [1, 0, 0],\n",
              "             'house': [0, 1, 0],\n",
              "             'profound': [0, 1, 0],\n",
              "             'majesty': [1, 0, 0],\n",
              "             'referendum': [1, 0, 0],\n",
              "             'made': [1, 1, 0],\n",
              "             'asian': [1, 0, 0],\n",
              "             'decade': [0, 0, 1],\n",
              "             'white': [0, 1, 0],\n",
              "             'fund': [0, 0, 1],\n",
              "             'known': [1, 0, 0],\n",
              "             'foreign': [0, 1, 0],\n",
              "             'difficult': [0, 1, 0],\n",
              "             'fifth': [0, 0, 1],\n",
              "             'latest': [0, 0, 1],\n",
              "             'making': [0, 0, 1],\n",
              "             '2021': [0, 0, 1],\n",
              "             'largest': [0, 0, 1],\n",
              "             'resign': [1, 0, 0],\n",
              "             'keep': [0, 1, 0],\n",
              "             'warned': [0, 1, 0],\n",
              "             'minister': [1, 1, 0],\n",
              "             'overtaken': [0, 0, 1],\n",
              "             'military': [1, 0, 0],\n",
              "             'hours': [0, 1, 0],\n",
              "             'indianorigin': [0, 1, 0],\n",
              "             'ago': [0, 0, 1],\n",
              "             'said': [0, 1, 0],\n",
              "             'might': [0, 1, 0],\n",
              "             'president': [0, 1, 0],\n",
              "             'parliamentary': [1, 0, 0]})"
            ]
          },
          "metadata": {},
          "execution_count": 8
        }
      ]
    },
    {
      "cell_type": "code",
      "source": [
        "\n",
        "def boolean_query():\n",
        "\n",
        "  query=input(\"Enter the query:\")\n",
        "  query=word_tokenize(query)\n",
        "  operator_words=[]\n",
        "  query_words=[]\n",
        "\n",
        "  for word in query:\n",
        "      if word.lower() != \"and\" and word.lower() != \"or\" and word.lower() != \"not\":\n",
        "        query_words.append(word.lower())\n",
        "      else:\n",
        "        operator_words.append(word.lower())\n",
        "\n",
        "  if operator_words[0]==\"and\":\n",
        "    query_op=np.array(doc_vectors[query_words[0]]) & np.array(doc_vectors[query_words[1]])\n",
        "  elif operator_words[0]==\"or\":\n",
        "    query_op=np.array(doc_vectors[query_words[0]]) | np.array(doc_vectors[query_words[1]])\n",
        "  elif operator_words[0]==\"not\":\n",
        "    query_op=1-np.array(doc_vectors[query_words[1]])\n",
        "    query_op=np.array(doc_vectors[query_words[0]]) & query_op\n",
        "  operator_words.pop(0)\n",
        "  query_words.pop(0)\n",
        "  query_words.pop(0)\n",
        "\n",
        "  for word in operator_words:\n",
        "    if word == \"and\":\n",
        "      query_op = query_op & np.array(doc_vectors[query_words[0]])\n",
        "      operator_words.pop(0)\n",
        "      query_words.pop(0)\n",
        "    elif word == \"or\":\n",
        "      query_op = query_op | np.array(doc_vectors[query_words[0]])\n",
        "      operator_words.pop(0)\n",
        "      query_words.pop(0)\n",
        "    elif word == \"not\":\n",
        "      query_opt=1-np.array(doc_vectors[query_words[0]])\n",
        "      query_op =query_op & query_opt\n",
        "      operator_words.pop(0)\n",
        "      query_words.pop(0)\n",
        "\n",
        "  print(query_op)\n"
      ],
      "metadata": {
        "id": "CI5nixc1dcqq"
      },
      "execution_count": null,
      "outputs": []
    },
    {
      "cell_type": "code",
      "source": [
        "boolean_query()"
      ],
      "metadata": {
        "colab": {
          "base_uri": "https://localhost:8080/"
        },
        "id": "4ZtiIt56gPPe",
        "outputId": "2d87772b-b488-4d2f-e29b-d46e4b5a210c"
      },
      "execution_count": null,
      "outputs": [
        {
          "output_type": "stream",
          "name": "stdout",
          "text": [
            "Enter the query:truss or support\n",
            "[1 1 0]\n"
          ]
        }
      ]
    },
    {
      "cell_type": "code",
      "source": [
        "boolean_query()"
      ],
      "metadata": {
        "colab": {
          "base_uri": "https://localhost:8080/"
        },
        "id": "eH8hr1lGi3S1",
        "outputId": "88276296-64b4-4a25-f1b4-c2d3c7787b51"
      },
      "execution_count": null,
      "outputs": [
        {
          "output_type": "stream",
          "name": "stdout",
          "text": [
            "Enter the query:biden and russia\n",
            "[0 1 0]\n"
          ]
        }
      ]
    },
    {
      "cell_type": "code",
      "source": [],
      "metadata": {
        "id": "KOB23UUoi966"
      },
      "execution_count": null,
      "outputs": []
    }
  ]
}